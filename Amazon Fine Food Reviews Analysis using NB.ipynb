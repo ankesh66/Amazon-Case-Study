{
 "cells": [
  {
   "cell_type": "markdown",
   "metadata": {},
   "source": [
    "# [7] Amazon Fine Food Reviews Analysis\n",
    "\n",
    "\n",
    "Data Source: https://www.kaggle.com/snap/amazon-fine-food-reviews\n",
    "\n",
    "The Amazon Fine Food Reviews dataset consists of reviews of fine foods from Amazon.<br>\n",
    "\n",
    "Number of reviews: 568,454<br>\n",
    "Number of users: 256,059<br>\n",
    "Number of products: 74,258<br>\n",
    "Timespan: Oct 1999 - Oct 2012<br>\n",
    "Number of Attributes/Columns in data: 10 \n",
    "\n",
    "Attribute Information:\n",
    "\n",
    "1. Id\n",
    "2. ProductId - unique identifier for the product\n",
    "3. UserId - unqiue identifier for the user\n",
    "4. ProfileName\n",
    "5. HelpfulnessNumerator - number of users who found the review helpful\n",
    "6. HelpfulnessDenominator - number of users who indicated whether they found the review helpful or not\n",
    "7. Score - rating between 1 and 5\n",
    "8. Time - timestamp for the review\n",
    "9. Summary - brief summary of the review\n",
    "10. Text - text of the review\n",
    "\n",
    "\n",
    "#### Objective:\n",
    "Given a review, determine whether the review is positive (Rating of 4 or 5) or negative (rating of 1 or 2).\n",
    "\n",
    "<br>\n",
    "[Q] How to determine if a review is positive or negative?<br>\n",
    "<br> \n",
    "[Ans] We could use the Score/Rating. A rating of 4 or 5 could be cosnidered a positive review. A review of 1 or 2 could be considered negative. A review of 3 is nuetral and ignored. This is an approximate and proxy way of determining the polarity (positivity/negativity) of a review.\n",
    "\n",
    "\n"
   ]
  },
  {
   "cell_type": "markdown",
   "metadata": {},
   "source": [
    "## [7.1] Loading the data\n",
    "\n",
    "The dataset is available in two forms\n",
    "1. .csv file\n",
    "2. SQLite Database\n",
    "\n",
    "In order to load the data, We have used the SQLITE dataset as it easier to query the data and visualise the data efficiently.\n",
    "<br> \n",
    "\n",
    "Here as we only want to get the global sentiment of the recommendations (positive or negative), we will purposefully ignore all Scores equal to 3. If the score id above 3, then the recommendation wil be set to \"positive\". Otherwise, it will be set to \"negative\"."
   ]
  },
  {
   "cell_type": "code",
   "execution_count": 1,
   "metadata": {},
   "outputs": [],
   "source": [
    "%matplotlib inline\n",
    "\n",
    "import sqlite3\n",
    "import pandas as pd\n",
    "import numpy as np\n",
    "import nltk\n",
    "import string\n",
    "import matplotlib.pyplot as plt\n",
    "import seaborn as sns\n",
    "from sklearn.feature_extraction.text import TfidfTransformer\n",
    "from sklearn.feature_extraction.text import TfidfVectorizer\n",
    "\n",
    "from sklearn.feature_extraction.text import CountVectorizer\n",
    "from sklearn.metrics import confusion_matrix\n",
    "from sklearn import metrics\n",
    "from sklearn.metrics import roc_curve, auc\n",
    "from nltk.stem.porter import PorterStemmer\n",
    "\n",
    "\n",
    "\n",
    "# using the SQLite Table to read data. Give proper path for data resources\n",
    "con = sqlite3.connect('./amazon fine food/database.sqlite') \n",
    "\n",
    "\n",
    "\n",
    "#filtering only positive and negative reviews i.e. \n",
    "# not taking into consideration those reviews with Score=3\n",
    "filtered_data = pd.read_sql_query(\"\"\"\n",
    "SELECT *\n",
    "FROM Reviews\n",
    "WHERE Score != 3\n",
    "\"\"\", con) \n",
    "\n",
    "\n",
    "\n",
    "\n",
    "# Give reviews with Score>3 a positive rating, and reviews with a score<3 a negative rating.\n",
    "def partition(x):\n",
    "    if x < 3:\n",
    "        return 'negative'\n",
    "    return 'positive'\n",
    "\n",
    "#changing reviews with score less than 3 to be positive and vice-versa\n",
    "actualScore = filtered_data['Score']\n",
    "positiveNegative = actualScore.map(partition) \n",
    "filtered_data['Score'] = positiveNegative"
   ]
  },
  {
   "cell_type": "code",
   "execution_count": 2,
   "metadata": {},
   "outputs": [
    {
     "data": {
      "text/html": [
       "<div>\n",
       "<style scoped>\n",
       "    .dataframe tbody tr th:only-of-type {\n",
       "        vertical-align: middle;\n",
       "    }\n",
       "\n",
       "    .dataframe tbody tr th {\n",
       "        vertical-align: top;\n",
       "    }\n",
       "\n",
       "    .dataframe thead th {\n",
       "        text-align: right;\n",
       "    }\n",
       "</style>\n",
       "<table border=\"1\" class=\"dataframe\">\n",
       "  <thead>\n",
       "    <tr style=\"text-align: right;\">\n",
       "      <th></th>\n",
       "      <th>Id</th>\n",
       "      <th>ProductId</th>\n",
       "      <th>UserId</th>\n",
       "      <th>ProfileName</th>\n",
       "      <th>HelpfulnessNumerator</th>\n",
       "      <th>HelpfulnessDenominator</th>\n",
       "      <th>Score</th>\n",
       "      <th>Time</th>\n",
       "      <th>Summary</th>\n",
       "      <th>Text</th>\n",
       "    </tr>\n",
       "  </thead>\n",
       "  <tbody>\n",
       "    <tr>\n",
       "      <th>0</th>\n",
       "      <td>1</td>\n",
       "      <td>B001E4KFG0</td>\n",
       "      <td>A3SGXH7AUHU8GW</td>\n",
       "      <td>delmartian</td>\n",
       "      <td>1</td>\n",
       "      <td>1</td>\n",
       "      <td>positive</td>\n",
       "      <td>1303862400</td>\n",
       "      <td>Good Quality Dog Food</td>\n",
       "      <td>I have bought several of the Vitality canned d...</td>\n",
       "    </tr>\n",
       "    <tr>\n",
       "      <th>1</th>\n",
       "      <td>2</td>\n",
       "      <td>B00813GRG4</td>\n",
       "      <td>A1D87F6ZCVE5NK</td>\n",
       "      <td>dll pa</td>\n",
       "      <td>0</td>\n",
       "      <td>0</td>\n",
       "      <td>negative</td>\n",
       "      <td>1346976000</td>\n",
       "      <td>Not as Advertised</td>\n",
       "      <td>Product arrived labeled as Jumbo Salted Peanut...</td>\n",
       "    </tr>\n",
       "    <tr>\n",
       "      <th>2</th>\n",
       "      <td>3</td>\n",
       "      <td>B000LQOCH0</td>\n",
       "      <td>ABXLMWJIXXAIN</td>\n",
       "      <td>Natalia Corres \"Natalia Corres\"</td>\n",
       "      <td>1</td>\n",
       "      <td>1</td>\n",
       "      <td>positive</td>\n",
       "      <td>1219017600</td>\n",
       "      <td>\"Delight\" says it all</td>\n",
       "      <td>This is a confection that has been around a fe...</td>\n",
       "    </tr>\n",
       "    <tr>\n",
       "      <th>3</th>\n",
       "      <td>4</td>\n",
       "      <td>B000UA0QIQ</td>\n",
       "      <td>A395BORC6FGVXV</td>\n",
       "      <td>Karl</td>\n",
       "      <td>3</td>\n",
       "      <td>3</td>\n",
       "      <td>negative</td>\n",
       "      <td>1307923200</td>\n",
       "      <td>Cough Medicine</td>\n",
       "      <td>If you are looking for the secret ingredient i...</td>\n",
       "    </tr>\n",
       "    <tr>\n",
       "      <th>4</th>\n",
       "      <td>5</td>\n",
       "      <td>B006K2ZZ7K</td>\n",
       "      <td>A1UQRSCLF8GW1T</td>\n",
       "      <td>Michael D. Bigham \"M. Wassir\"</td>\n",
       "      <td>0</td>\n",
       "      <td>0</td>\n",
       "      <td>positive</td>\n",
       "      <td>1350777600</td>\n",
       "      <td>Great taffy</td>\n",
       "      <td>Great taffy at a great price.  There was a wid...</td>\n",
       "    </tr>\n",
       "  </tbody>\n",
       "</table>\n",
       "</div>"
      ],
      "text/plain": [
       "   Id   ProductId          UserId                      ProfileName  \\\n",
       "0   1  B001E4KFG0  A3SGXH7AUHU8GW                       delmartian   \n",
       "1   2  B00813GRG4  A1D87F6ZCVE5NK                           dll pa   \n",
       "2   3  B000LQOCH0   ABXLMWJIXXAIN  Natalia Corres \"Natalia Corres\"   \n",
       "3   4  B000UA0QIQ  A395BORC6FGVXV                             Karl   \n",
       "4   5  B006K2ZZ7K  A1UQRSCLF8GW1T    Michael D. Bigham \"M. Wassir\"   \n",
       "\n",
       "   HelpfulnessNumerator  HelpfulnessDenominator     Score        Time  \\\n",
       "0                     1                       1  positive  1303862400   \n",
       "1                     0                       0  negative  1346976000   \n",
       "2                     1                       1  positive  1219017600   \n",
       "3                     3                       3  negative  1307923200   \n",
       "4                     0                       0  positive  1350777600   \n",
       "\n",
       "                 Summary                                               Text  \n",
       "0  Good Quality Dog Food  I have bought several of the Vitality canned d...  \n",
       "1      Not as Advertised  Product arrived labeled as Jumbo Salted Peanut...  \n",
       "2  \"Delight\" says it all  This is a confection that has been around a fe...  \n",
       "3         Cough Medicine  If you are looking for the secret ingredient i...  \n",
       "4            Great taffy  Great taffy at a great price.  There was a wid...  "
      ]
     },
     "execution_count": 2,
     "metadata": {},
     "output_type": "execute_result"
    }
   ],
   "source": [
    "filtered_data.shape #looking at the number of attributes and size of the data\n",
    "filtered_data.head()"
   ]
  },
  {
   "cell_type": "markdown",
   "metadata": {},
   "source": [
    "#  Exploratory Data Analysis\n",
    "\n",
    "## [7.1.2] Data Cleaning: Deduplication\n",
    "\n",
    "It is observed (as shown in the table below) that the reviews data had many duplicate entries. Hence it was necessary to remove duplicates in order to get unbiased results for the analysis of the data.  Following is an example:"
   ]
  },
  {
   "cell_type": "code",
   "execution_count": 3,
   "metadata": {
    "scrolled": true
   },
   "outputs": [
    {
     "data": {
      "text/html": [
       "<div>\n",
       "<style scoped>\n",
       "    .dataframe tbody tr th:only-of-type {\n",
       "        vertical-align: middle;\n",
       "    }\n",
       "\n",
       "    .dataframe tbody tr th {\n",
       "        vertical-align: top;\n",
       "    }\n",
       "\n",
       "    .dataframe thead th {\n",
       "        text-align: right;\n",
       "    }\n",
       "</style>\n",
       "<table border=\"1\" class=\"dataframe\">\n",
       "  <thead>\n",
       "    <tr style=\"text-align: right;\">\n",
       "      <th></th>\n",
       "      <th>Id</th>\n",
       "      <th>ProductId</th>\n",
       "      <th>UserId</th>\n",
       "      <th>ProfileName</th>\n",
       "      <th>HelpfulnessNumerator</th>\n",
       "      <th>HelpfulnessDenominator</th>\n",
       "      <th>Score</th>\n",
       "      <th>Time</th>\n",
       "      <th>Summary</th>\n",
       "      <th>Text</th>\n",
       "    </tr>\n",
       "  </thead>\n",
       "  <tbody>\n",
       "    <tr>\n",
       "      <th>0</th>\n",
       "      <td>78445</td>\n",
       "      <td>B000HDL1RQ</td>\n",
       "      <td>AR5J8UI46CURR</td>\n",
       "      <td>Geetha Krishnan</td>\n",
       "      <td>2</td>\n",
       "      <td>2</td>\n",
       "      <td>5</td>\n",
       "      <td>1199577600</td>\n",
       "      <td>LOACKER QUADRATINI VANILLA WAFERS</td>\n",
       "      <td>DELICIOUS WAFERS. I FIND THAT EUROPEAN WAFERS ...</td>\n",
       "    </tr>\n",
       "    <tr>\n",
       "      <th>1</th>\n",
       "      <td>138317</td>\n",
       "      <td>B000HDOPYC</td>\n",
       "      <td>AR5J8UI46CURR</td>\n",
       "      <td>Geetha Krishnan</td>\n",
       "      <td>2</td>\n",
       "      <td>2</td>\n",
       "      <td>5</td>\n",
       "      <td>1199577600</td>\n",
       "      <td>LOACKER QUADRATINI VANILLA WAFERS</td>\n",
       "      <td>DELICIOUS WAFERS. I FIND THAT EUROPEAN WAFERS ...</td>\n",
       "    </tr>\n",
       "    <tr>\n",
       "      <th>2</th>\n",
       "      <td>138277</td>\n",
       "      <td>B000HDOPYM</td>\n",
       "      <td>AR5J8UI46CURR</td>\n",
       "      <td>Geetha Krishnan</td>\n",
       "      <td>2</td>\n",
       "      <td>2</td>\n",
       "      <td>5</td>\n",
       "      <td>1199577600</td>\n",
       "      <td>LOACKER QUADRATINI VANILLA WAFERS</td>\n",
       "      <td>DELICIOUS WAFERS. I FIND THAT EUROPEAN WAFERS ...</td>\n",
       "    </tr>\n",
       "    <tr>\n",
       "      <th>3</th>\n",
       "      <td>73791</td>\n",
       "      <td>B000HDOPZG</td>\n",
       "      <td>AR5J8UI46CURR</td>\n",
       "      <td>Geetha Krishnan</td>\n",
       "      <td>2</td>\n",
       "      <td>2</td>\n",
       "      <td>5</td>\n",
       "      <td>1199577600</td>\n",
       "      <td>LOACKER QUADRATINI VANILLA WAFERS</td>\n",
       "      <td>DELICIOUS WAFERS. I FIND THAT EUROPEAN WAFERS ...</td>\n",
       "    </tr>\n",
       "    <tr>\n",
       "      <th>4</th>\n",
       "      <td>155049</td>\n",
       "      <td>B000PAQ75C</td>\n",
       "      <td>AR5J8UI46CURR</td>\n",
       "      <td>Geetha Krishnan</td>\n",
       "      <td>2</td>\n",
       "      <td>2</td>\n",
       "      <td>5</td>\n",
       "      <td>1199577600</td>\n",
       "      <td>LOACKER QUADRATINI VANILLA WAFERS</td>\n",
       "      <td>DELICIOUS WAFERS. I FIND THAT EUROPEAN WAFERS ...</td>\n",
       "    </tr>\n",
       "  </tbody>\n",
       "</table>\n",
       "</div>"
      ],
      "text/plain": [
       "       Id   ProductId         UserId      ProfileName  HelpfulnessNumerator  \\\n",
       "0   78445  B000HDL1RQ  AR5J8UI46CURR  Geetha Krishnan                     2   \n",
       "1  138317  B000HDOPYC  AR5J8UI46CURR  Geetha Krishnan                     2   \n",
       "2  138277  B000HDOPYM  AR5J8UI46CURR  Geetha Krishnan                     2   \n",
       "3   73791  B000HDOPZG  AR5J8UI46CURR  Geetha Krishnan                     2   \n",
       "4  155049  B000PAQ75C  AR5J8UI46CURR  Geetha Krishnan                     2   \n",
       "\n",
       "   HelpfulnessDenominator  Score        Time  \\\n",
       "0                       2      5  1199577600   \n",
       "1                       2      5  1199577600   \n",
       "2                       2      5  1199577600   \n",
       "3                       2      5  1199577600   \n",
       "4                       2      5  1199577600   \n",
       "\n",
       "                             Summary  \\\n",
       "0  LOACKER QUADRATINI VANILLA WAFERS   \n",
       "1  LOACKER QUADRATINI VANILLA WAFERS   \n",
       "2  LOACKER QUADRATINI VANILLA WAFERS   \n",
       "3  LOACKER QUADRATINI VANILLA WAFERS   \n",
       "4  LOACKER QUADRATINI VANILLA WAFERS   \n",
       "\n",
       "                                                Text  \n",
       "0  DELICIOUS WAFERS. I FIND THAT EUROPEAN WAFERS ...  \n",
       "1  DELICIOUS WAFERS. I FIND THAT EUROPEAN WAFERS ...  \n",
       "2  DELICIOUS WAFERS. I FIND THAT EUROPEAN WAFERS ...  \n",
       "3  DELICIOUS WAFERS. I FIND THAT EUROPEAN WAFERS ...  \n",
       "4  DELICIOUS WAFERS. I FIND THAT EUROPEAN WAFERS ...  "
      ]
     },
     "execution_count": 3,
     "metadata": {},
     "output_type": "execute_result"
    }
   ],
   "source": [
    "display= pd.read_sql_query(\"\"\"\n",
    "SELECT *\n",
    "FROM Reviews\n",
    "WHERE Score != 3 AND UserId=\"AR5J8UI46CURR\"\n",
    "ORDER BY ProductID\n",
    "\"\"\", con)\n",
    "display"
   ]
  },
  {
   "cell_type": "markdown",
   "metadata": {},
   "source": [
    "As can be seen above the same user has multiple reviews of the with the same values for HelpfulnessNumerator, HelpfulnessDenominator, Score, Time, Summary and Text  and on doing analysis it was found that <br>\n",
    "<br> \n",
    "ProductId=B000HDOPZG was Loacker Quadratini Vanilla Wafer Cookies, 8.82-Ounce Packages (Pack of 8)<br>\n",
    "<br> \n",
    "ProductId=B000HDL1RQ was Loacker Quadratini Lemon Wafer Cookies, 8.82-Ounce Packages (Pack of 8) and so on<br>\n",
    "\n",
    "It was inferred after analysis that reviews with same parameters other than ProductId belonged to the same product just having different flavour or quantity. Hence in order to reduce redundancy it was decided to eliminate the rows having same parameters.<br>\n",
    "\n",
    "The method used for the same was that we first sort the data according to ProductId and then just keep the first similar product review and delelte the others. for eg. in the above just the review for ProductId=B000HDL1RQ remains. This method ensures that there is only one representative for each product and deduplication without sorting would lead to possibility of different representatives still existing for the same product."
   ]
  },
  {
   "cell_type": "code",
   "execution_count": 4,
   "metadata": {},
   "outputs": [],
   "source": [
    "#Sorting data according to ProductId in ascending order\n",
    "sorted_data=filtered_data.sort_values('ProductId', axis=0, ascending=True, inplace=False, kind='quicksort', na_position='last')"
   ]
  },
  {
   "cell_type": "code",
   "execution_count": 5,
   "metadata": {},
   "outputs": [
    {
     "data": {
      "text/plain": [
       "(364173, 10)"
      ]
     },
     "execution_count": 5,
     "metadata": {},
     "output_type": "execute_result"
    }
   ],
   "source": [
    "#Deduplication of entries\n",
    "final=sorted_data.drop_duplicates(subset={\"UserId\",\"ProfileName\",\"Time\",\"Text\"}, keep='first', inplace=False)\n",
    "final.shape"
   ]
  },
  {
   "cell_type": "code",
   "execution_count": 6,
   "metadata": {},
   "outputs": [
    {
     "data": {
      "text/plain": [
       "69.25890143662969"
      ]
     },
     "execution_count": 6,
     "metadata": {},
     "output_type": "execute_result"
    }
   ],
   "source": [
    "#Checking to see how much % of data still remains\n",
    "(final['Id'].size*1.0)/(filtered_data['Id'].size*1.0)*100"
   ]
  },
  {
   "cell_type": "markdown",
   "metadata": {},
   "source": [
    "<b>Observation:-</b> It was also seen that in two rows given below the value of HelpfulnessNumerator is greater than HelpfulnessDenominator which is not practically possible hence these two rows too are removed from calcualtions"
   ]
  },
  {
   "cell_type": "code",
   "execution_count": 7,
   "metadata": {},
   "outputs": [
    {
     "data": {
      "text/html": [
       "<div>\n",
       "<style scoped>\n",
       "    .dataframe tbody tr th:only-of-type {\n",
       "        vertical-align: middle;\n",
       "    }\n",
       "\n",
       "    .dataframe tbody tr th {\n",
       "        vertical-align: top;\n",
       "    }\n",
       "\n",
       "    .dataframe thead th {\n",
       "        text-align: right;\n",
       "    }\n",
       "</style>\n",
       "<table border=\"1\" class=\"dataframe\">\n",
       "  <thead>\n",
       "    <tr style=\"text-align: right;\">\n",
       "      <th></th>\n",
       "      <th>Id</th>\n",
       "      <th>ProductId</th>\n",
       "      <th>UserId</th>\n",
       "      <th>ProfileName</th>\n",
       "      <th>HelpfulnessNumerator</th>\n",
       "      <th>HelpfulnessDenominator</th>\n",
       "      <th>Score</th>\n",
       "      <th>Time</th>\n",
       "      <th>Summary</th>\n",
       "      <th>Text</th>\n",
       "    </tr>\n",
       "  </thead>\n",
       "  <tbody>\n",
       "    <tr>\n",
       "      <th>0</th>\n",
       "      <td>64422</td>\n",
       "      <td>B000MIDROQ</td>\n",
       "      <td>A161DK06JJMCYF</td>\n",
       "      <td>J. E. Stephens \"Jeanne\"</td>\n",
       "      <td>3</td>\n",
       "      <td>1</td>\n",
       "      <td>5</td>\n",
       "      <td>1224892800</td>\n",
       "      <td>Bought This for My Son at College</td>\n",
       "      <td>My son loves spaghetti so I didn't hesitate or...</td>\n",
       "    </tr>\n",
       "    <tr>\n",
       "      <th>1</th>\n",
       "      <td>44737</td>\n",
       "      <td>B001EQ55RW</td>\n",
       "      <td>A2V0I904FH7ABY</td>\n",
       "      <td>Ram</td>\n",
       "      <td>3</td>\n",
       "      <td>2</td>\n",
       "      <td>4</td>\n",
       "      <td>1212883200</td>\n",
       "      <td>Pure cocoa taste with crunchy almonds inside</td>\n",
       "      <td>It was almost a 'love at first bite' - the per...</td>\n",
       "    </tr>\n",
       "  </tbody>\n",
       "</table>\n",
       "</div>"
      ],
      "text/plain": [
       "      Id   ProductId          UserId              ProfileName  \\\n",
       "0  64422  B000MIDROQ  A161DK06JJMCYF  J. E. Stephens \"Jeanne\"   \n",
       "1  44737  B001EQ55RW  A2V0I904FH7ABY                      Ram   \n",
       "\n",
       "   HelpfulnessNumerator  HelpfulnessDenominator  Score        Time  \\\n",
       "0                     3                       1      5  1224892800   \n",
       "1                     3                       2      4  1212883200   \n",
       "\n",
       "                                        Summary  \\\n",
       "0             Bought This for My Son at College   \n",
       "1  Pure cocoa taste with crunchy almonds inside   \n",
       "\n",
       "                                                Text  \n",
       "0  My son loves spaghetti so I didn't hesitate or...  \n",
       "1  It was almost a 'love at first bite' - the per...  "
      ]
     },
     "execution_count": 7,
     "metadata": {},
     "output_type": "execute_result"
    }
   ],
   "source": [
    "display= pd.read_sql_query(\"\"\"\n",
    "SELECT *\n",
    "FROM Reviews\n",
    "WHERE Score != 3 AND Id=44737 OR Id=64422\n",
    "ORDER BY ProductID\n",
    "\"\"\", con)\n",
    "display\n"
   ]
  },
  {
   "cell_type": "code",
   "execution_count": 8,
   "metadata": {},
   "outputs": [],
   "source": [
    "final=final[final.HelpfulnessNumerator<=final.HelpfulnessDenominator]\n"
   ]
  },
  {
   "cell_type": "code",
   "execution_count": 9,
   "metadata": {},
   "outputs": [
    {
     "name": "stdout",
     "output_type": "stream",
     "text": [
      "(364171, 10)\n"
     ]
    },
    {
     "data": {
      "text/plain": [
       "positive    307061\n",
       "negative     57110\n",
       "Name: Score, dtype: int64"
      ]
     },
     "execution_count": 9,
     "metadata": {},
     "output_type": "execute_result"
    }
   ],
   "source": [
    "#Before starting the next phase of preprocessing lets see the number of entries left\n",
    "print(final.shape)\n",
    "\n",
    "#How many positive and negative reviews are present in our dataset?\n",
    "final['Score'].value_counts()"
   ]
  },
  {
   "cell_type": "markdown",
   "metadata": {},
   "source": [
    "## 7.2.3  Text Preprocessing: Stemming, stop-word removal and Lemmatization.\n",
    "\n",
    "Now that we have finished deduplication our data requires some preprocessing before we go on further with analysis and making the prediction model.\n",
    "\n",
    "Hence in the Preprocessing phase we do the following in the order below:-\n",
    "\n",
    "1. Begin by removing the html tags\n",
    "2. Remove any punctuations or limited set of special characters like , or . or # etc.\n",
    "3. Check if the word is made up of english letters and is not alpha-numeric\n",
    "4. Check to see if the length of the word is greater than 2 (as it was researched that there is no adjective in 2-letters)\n",
    "5. Convert the word to lowercase\n",
    "6. Remove Stopwords\n",
    "7. Finally Snowball Stemming the word (it was obsereved to be better than Porter Stemming)<br>\n",
    "\n",
    "After which we collect the words used to describe positive and negative reviews"
   ]
  },
  {
   "cell_type": "code",
   "execution_count": 10,
   "metadata": {},
   "outputs": [
    {
     "name": "stdout",
     "output_type": "stream",
     "text": [
      "6\n",
      "I set aside at least an hour each day to read to my son (3 y/o). At this point, I consider myself a connoisseur of children's books and this is one of the best. Santa Clause put this under the tree. Since then, we've read it perpetually and he loves it.<br /><br />First, this book taught him the months of the year.<br /><br />Second, it's a pleasure to read. Well suited to 1.5 y/o old to 4+.<br /><br />Very few children's books are worth owning. Most should be borrowed from the library. This book, however, deserves a permanent spot on your shelf. Sendak's best.\n"
     ]
    }
   ],
   "source": [
    "# find sentences containing HTML tags\n",
    "import re\n",
    "i=0;\n",
    "for sent in final['Text'].values:\n",
    "    if (len(re.findall('<.*?>', sent))):\n",
    "        print(i)\n",
    "        print(sent)\n",
    "        break;\n",
    "    i += 1;    \n",
    "\n",
    "        "
   ]
  },
  {
   "cell_type": "code",
   "execution_count": 11,
   "metadata": {},
   "outputs": [
    {
     "name": "stdout",
     "output_type": "stream",
     "text": [
      "{\"you're\", 'for', 'not', 'between', 'out', 'ourselves', 'him', 'its', 'through', \"that'll\", 'didn', 'few', 'shouldn', 'now', 'shan', 'have', 'ours', 'was', 'after', 'is', 'me', 'ma', 'wasn', 'what', 'am', 'd', 'down', 'does', 'whom', \"won't\", 'that', 'hers', 'own', 'more', \"haven't\", 'from', 'will', 'other', \"hasn't\", 'she', 'do', 'while', \"it's\", \"doesn't\", \"weren't\", 'where', \"you'd\", 'yourselves', \"should've\", 'doing', 'but', 'of', 'll', \"wouldn't\", 'which', 'too', 'further', 'are', \"needn't\", \"wasn't\", 'a', 'm', 'yourself', 'below', 'no', \"didn't\", 'both', 're', 'o', 'doesn', 'on', 'before', 'them', 'so', 'we', 'up', 'any', 'because', 'here', 'same', 'ain', 'hadn', 'during', 'needn', \"she's\", 'again', 'this', 'by', \"you'll\", \"isn't\", 'these', 'her', 'had', 'than', 't', 'their', 'yours', 'very', 'then', 'weren', 'once', \"mightn't\", 'with', 'over', 'all', 'such', 'aren', 'only', 'it', 'myself', 'won', 've', 'our', 'those', 'as', 'i', 'some', \"shan't\", 'into', 'until', \"don't\", 'mustn', 'when', 'be', \"shouldn't\", 'at', 'nor', 'himself', 'don', 'wouldn', 'you', 'why', 'were', 'hasn', 'most', 'haven', 'and', 'themselves', 'your', 'off', 'to', 'above', 'he', 'my', 'an', 'couldn', 'having', 'did', 'just', 'can', 'under', 'herself', \"couldn't\", \"hadn't\", 'mightn', 'theirs', 'how', 'isn', 'or', \"you've\", 'been', 'if', 'itself', 'being', 'the', 'who', 'should', 'each', 'his', 'in', 's', \"aren't\", 'about', \"mustn't\", 'they', 'y', 'there', 'has', 'against'}\n",
      "************************************\n",
      "tasti\n"
     ]
    }
   ],
   "source": [
    "\n",
    "# Tutorial about Python regular expressions: https://pymotw.com/2/re/\n",
    "import string\n",
    "from nltk.corpus import stopwords\n",
    "from nltk.stem import PorterStemmer\n",
    "from nltk.stem.wordnet import WordNetLemmatizer\n",
    "\n",
    "stop = set(stopwords.words('english')) #set of stopwords\n",
    "sno = nltk.stem.SnowballStemmer('english') #initialising the snowball stemmer\n",
    "\n",
    "def cleanhtml(sentence): #function to clean the word of any html-tags\n",
    "    cleanr = re.compile('<.*?>')\n",
    "    cleantext = re.sub(cleanr, ' ', sentence)\n",
    "    return cleantext\n",
    "def cleanpunc(sentence): #function to clean the word of any punctuation or special characters\n",
    "    cleaned = re.sub(r'[?|!|\\'|\"|#]',r'',sentence)\n",
    "    cleaned = re.sub(r'[.|,|)|(|\\|/]',r' ',cleaned)\n",
    "    return  cleaned\n",
    "print(stop)\n",
    "print('************************************')\n",
    "print(sno.stem('tasty'))"
   ]
  },
  {
   "cell_type": "code",
   "execution_count": 12,
   "metadata": {},
   "outputs": [],
   "source": [
    "#Code for implementing step-by-step the checks mentioned in the pre-processing phase\n",
    "# this code takes a while to run as it needs to run on 500k sentences.\n",
    "i=0\n",
    "str1=' '\n",
    "final_string=[]\n",
    "all_positive_words=[] # store words from +ve reviews here\n",
    "all_negative_words=[] # store words from -ve reviews here.\n",
    "s=''\n",
    "for sent in final['Text'].values:\n",
    "    filtered_sentence=[]\n",
    "    #print(sent);\n",
    "    sent=cleanhtml(sent) # remove HTMl tags\n",
    "    for w in sent.split():\n",
    "        for cleaned_words in cleanpunc(w).split():\n",
    "            if((cleaned_words.isalpha()) & (len(cleaned_words)>2)):    \n",
    "                if(cleaned_words.lower() not in stop):\n",
    "                    s=(sno.stem(cleaned_words.lower())).encode('utf8')\n",
    "                    filtered_sentence.append(s)\n",
    "                    if (final['Score'].values)[i] == 'positive': \n",
    "                        all_positive_words.append(s) #list of all words used to describe positive reviews\n",
    "                    if(final['Score'].values)[i] == 'negative':\n",
    "                        all_negative_words.append(s) #list of all words used to describe negative reviews reviews\n",
    "                else:\n",
    "                    continue\n",
    "            else:\n",
    "                continue \n",
    "    #print(filtered_sentence)\n",
    "    str1 = b\" \".join(filtered_sentence) #final string of cleaned words\n",
    "    #print(\"***********************************************************************\")\n",
    "    \n",
    "    final_string.append(str1)\n",
    "    i+=1"
   ]
  },
  {
   "cell_type": "code",
   "execution_count": 13,
   "metadata": {},
   "outputs": [],
   "source": [
    "final['CleanedText']=final_string #adding a column of CleanedText which displays the data after pre-processing of the review "
   ]
  },
  {
   "cell_type": "code",
   "execution_count": 14,
   "metadata": {
    "scrolled": false
   },
   "outputs": [],
   "source": [
    "final.head(3) #below the processed review can be seen in the CleanedText Column \n",
    "\n",
    "\n",
    "# store final table into an SQlLite table for future.\n",
    "conn = sqlite3.connect('final.sqlite')\n",
    "c=conn.cursor()\n",
    "conn.text_factory = str\n",
    "final.to_sql('Reviews', conn, flavor=None, schema=None, if_exists='replace', index=True, index_label=None, chunksize=None, dtype=None)"
   ]
  },
  {
   "cell_type": "markdown",
   "metadata": {},
   "source": [
    "# Time based sorting of reviews"
   ]
  },
  {
   "cell_type": "code",
   "execution_count": 14,
   "metadata": {},
   "outputs": [],
   "source": [
    "final_sorted_data=final.sort_values('Time')\n",
    "y = np.array(final_sorted_data['Score'])"
   ]
  },
  {
   "cell_type": "markdown",
   "metadata": {},
   "source": [
    "# [7.2.2] Bag of Words (BoW)"
   ]
  },
  {
   "cell_type": "code",
   "execution_count": 15,
   "metadata": {},
   "outputs": [],
   "source": [
    "X_data = final_sorted_data['Text'].values"
   ]
  },
  {
   "cell_type": "code",
   "execution_count": 16,
   "metadata": {},
   "outputs": [
    {
     "name": "stderr",
     "output_type": "stream",
     "text": [
      "c:\\users\\admin\\appdata\\local\\programs\\python\\python36\\lib\\site-packages\\sklearn\\cross_validation.py:41: DeprecationWarning: This module was deprecated in version 0.18 in favor of the model_selection module into which all the refactored classes and functions are moved. Also note that the interface of the new CV iterators are different from that of this module. This module will be removed in 0.20.\n",
      "  \"This module will be removed in 0.20.\", DeprecationWarning)\n"
     ]
    }
   ],
   "source": [
    "import numpy as np\n",
    "import pandas as pd\n",
    "import matplotlib.pyplot as plt\n",
    "from sklearn.cross_validation import train_test_split\n",
    "from sklearn.naive_bayes import MultinomialNB\n",
    "from sklearn.metrics import accuracy_score, f1_score, precision_score, recall_score\n",
    "from sklearn.cross_validation import cross_val_score\n",
    "from collections import Counter\n",
    "from sklearn.metrics import accuracy_score\n",
    "from sklearn import cross_validation\n",
    "from sklearn.metrics import confusion_matrix"
   ]
  },
  {
   "cell_type": "code",
   "execution_count": 17,
   "metadata": {},
   "outputs": [],
   "source": [
    "X_train, X_test, y_train, y_test = cross_validation.train_test_split(X_data, y, test_size=0.3, random_state=0)\n"
   ]
  },
  {
   "cell_type": "code",
   "execution_count": 19,
   "metadata": {},
   "outputs": [],
   "source": [
    "#BoW\n",
    "count_unigram_vect = CountVectorizer() #in scikit-learn\n",
    "final_counts = count_unigram_vect.fit_transform(X_train)\n"
   ]
  },
  {
   "cell_type": "code",
   "execution_count": 25,
   "metadata": {},
   "outputs": [
    {
     "data": {
      "text/plain": [
       "(254919, 96249)"
      ]
     },
     "execution_count": 25,
     "metadata": {},
     "output_type": "execute_result"
    }
   ],
   "source": [
    "final_counts.get_shape()"
   ]
  },
  {
   "cell_type": "markdown",
   "metadata": {},
   "source": [
    "## [7.2.4] Bi-Grams and n-Grams.\n",
    "\n",
    "**Motivation**\n",
    "\n",
    "Now that we have our list of words describing positive and negative reviews lets analyse them.<br>\n",
    "\n",
    "We begin analysis by getting the frequency distribution of the words as shown below"
   ]
  },
  {
   "cell_type": "code",
   "execution_count": 44,
   "metadata": {},
   "outputs": [
    {
     "name": "stdout",
     "output_type": "stream",
     "text": [
      "Most Common Positive Words :  [(b'like', 139429), (b'tast', 129047), (b'good', 112766), (b'flavor', 109624), (b'love', 107357), (b'use', 103888), (b'great', 103870), (b'one', 96726), (b'product', 91033), (b'tri', 86791), (b'tea', 83888), (b'coffe', 78814), (b'make', 75107), (b'get', 72125), (b'food', 64802), (b'would', 55568), (b'time', 55264), (b'buy', 54198), (b'realli', 52715), (b'eat', 52004)]\n",
      "Most Common Negative Words :  [(b'tast', 34585), (b'like', 32330), (b'product', 28218), (b'one', 20569), (b'flavor', 19575), (b'would', 17972), (b'tri', 17753), (b'use', 15302), (b'good', 15041), (b'coffe', 14716), (b'get', 13786), (b'buy', 13752), (b'order', 12871), (b'food', 12754), (b'dont', 11877), (b'tea', 11665), (b'even', 11085), (b'box', 10844), (b'amazon', 10073), (b'make', 9840)]\n"
     ]
    }
   ],
   "source": [
    "freq_dist_positive=nltk.FreqDist(all_positive_words)\n",
    "freq_dist_negative=nltk.FreqDist(all_negative_words)\n",
    "print(\"Most Common Positive Words : \",freq_dist_positive.most_common(20))\n",
    "print(\"Most Common Negative Words : \",freq_dist_negative.most_common(20))"
   ]
  },
  {
   "cell_type": "markdown",
   "metadata": {},
   "source": [
    "<b>Observation:-</b> From the above it can be seen that the most common positive and the negative words overlap for eg. 'like' could be used as 'not like' etc. <br>\n",
    "So, it is a good idea to consider pairs of consequent words (bi-grams) or q sequnce of n consecutive words (n-grams)"
   ]
  },
  {
   "cell_type": "code",
   "execution_count": 29,
   "metadata": {},
   "outputs": [],
   "source": [
    "#bi-gram, tri-gram and n-gram\n",
    "\n",
    "#removing stop words like \"not\" should be avoided before building n-grams\n",
    "count_vect = CountVectorizer(ngram_range=(1,2) ) #in scikit-learn\n",
    "final_bigram_counts = count_vect.fit_transform(X_train)\n"
   ]
  },
  {
   "cell_type": "code",
   "execution_count": 30,
   "metadata": {},
   "outputs": [
    {
     "data": {
      "text/plain": [
       "(254919, 2328049)"
      ]
     },
     "execution_count": 30,
     "metadata": {},
     "output_type": "execute_result"
    }
   ],
   "source": [
    "final_bigram_counts.get_shape()"
   ]
  },
  {
   "cell_type": "code",
   "execution_count": 29,
   "metadata": {},
   "outputs": [
    {
     "data": {
      "text/plain": [
       "array([1.e-05, 2.e-05, 3.e-05, 4.e-05])"
      ]
     },
     "execution_count": 29,
     "metadata": {},
     "output_type": "execute_result"
    }
   ],
   "source": [
    "a=np.arange(0.00001, 0.00005, 0.00001)\n",
    "a"
   ]
  },
  {
   "cell_type": "code",
   "execution_count": 20,
   "metadata": {
    "scrolled": true
   },
   "outputs": [
    {
     "name": "stdout",
     "output_type": "stream",
     "text": [
      "\n",
      "The cross validation score for alpha = 1e-05 is 0.8944537259380112.\n",
      "\n",
      "The cross validation score for alpha = 2e-05 is 0.8950981917932206.\n",
      "\n",
      "The cross validation score for alpha = 3.0000000000000004e-05 is 0.8954624548704995.\n",
      "\n",
      "The cross validation score for alpha = 4e-05 is 0.8956193722450954.\n",
      "\n",
      "The cross validation score for alpha = 5e-05 is 0.895837930593955.\n",
      "\n",
      "The cross validation score for alpha = 6e-05 is 0.896000450522858.\n",
      "\n",
      "The cross validation score for alpha = 7.000000000000001e-05 is 0.8961573625584152.\n",
      "\n",
      "The cross validation score for alpha = 8e-05 is 0.8962750469776649.\n",
      "\n",
      "The cross validation score for alpha = 9e-05 is 0.8963759161963957.\n",
      "\n",
      "The cross validation score for alpha = 0.0001 is 0.896443167890653.\n",
      "\n",
      "The cross validation score for alpha = 0.00011 is 0.8964992094511957.\n",
      "\n",
      "The cross validation score for alpha = 0.00012 is 0.8965552484992412.\n",
      "\n",
      "The cross validation score for alpha = 0.00013000000000000002 is 0.8966393097409346.\n",
      "\n",
      "The cross validation score for alpha = 0.00014000000000000001 is 0.8967625989129445.\n",
      "\n",
      "The cross validation score for alpha = 0.00015000000000000001 is 0.8968074293976741.\n",
      "\n",
      "The cross validation score for alpha = 0.00016 is 0.89686346875987.\n",
      "\n",
      "The cross validation score for alpha = 0.00017 is 0.8969195100063679.\n",
      "\n",
      "The cross validation score for alpha = 0.00018 is 0.8969643404910975.\n",
      "\n",
      "The cross validation score for alpha = 0.00019 is 0.8969755468560315.\n",
      "\n",
      "The cross validation score for alpha = 0.0002 is 0.8970540046011077.\n",
      "\n",
      "The cross validation score for alpha = 0.00021 is 0.8971156468316908.\n",
      "\n",
      "The cross validation score for alpha = 0.00022 is 0.8971941033205535.\n",
      "\n",
      "The cross validation score for alpha = 0.00023 is 0.8971997055608869.\n",
      "\n",
      "The cross validation score for alpha = 0.00024 is 0.8972389334912385.\n",
      "\n",
      "The cross validation score for alpha = 0.00025000000000000006 is 0.8972781629919186.\n",
      "\n",
      "The cross validation score for alpha = 0.00026000000000000003 is 0.8973117877398034.\n",
      "\n",
      "The cross validation score for alpha = 0.00027000000000000006 is 0.8973342032961776.\n",
      "\n",
      "The cross validation score for alpha = 0.00028000000000000003 is 0.8973622236053822.\n",
      "\n",
      "The cross validation score for alpha = 0.00029000000000000006 is 0.8973902432864624.\n",
      "\n",
      "The cross validation score for alpha = 0.00030000000000000003 is 0.8974070553463603.\n",
      "\n",
      "The cross validation score for alpha = 0.00031000000000000005 is 0.8974462832767471.\n",
      "\n",
      "The cross validation score for alpha = 0.00032 is 0.8975079280197921.\n",
      "\n",
      "The cross validation score for alpha = 0.00033000000000000005 is 0.8974911159598943.\n",
      "\n",
      "The cross validation score for alpha = 0.0003400000000000001 is 0.8975303432621569.\n",
      "\n",
      "The cross validation score for alpha = 0.00035000000000000005 is 0.8975527575623528.\n",
      "\n",
      "The cross validation score for alpha = 0.0003600000000000001 is 0.8975639664397838.\n",
      "\n",
      "The cross validation score for alpha = 0.00037000000000000005 is 0.8975807769293181.\n",
      "\n",
      "The cross validation score for alpha = 0.0003800000000000001 is 0.8976256089843409.\n",
      "\n",
      "The cross validation score for alpha = 0.00039000000000000005 is 0.8976256077280924.\n",
      "\n",
      "The cross validation score for alpha = 0.0004000000000000001 is 0.8976368159773991.\n",
      "\n",
      "The cross validation score for alpha = 0.00041000000000000005 is 0.8976480248548299.\n",
      "\n",
      "The cross validation score for alpha = 0.00042000000000000007 is 0.8976648369147278.\n",
      "\n",
      "The cross validation score for alpha = 0.00043000000000000004 is 0.8977096692838302.\n",
      "\n",
      "The cross validation score for alpha = 0.00044000000000000007 is 0.897732085468399.\n",
      "\n",
      "The cross validation score for alpha = 0.00045000000000000004 is 0.8977769181515459.\n",
      "\n",
      "The cross validation score for alpha = 0.00046000000000000007 is 0.8978049378326262.\n",
      "\n",
      "The cross validation score for alpha = 0.00047000000000000004 is 0.8978105416432172.\n",
      "\n",
      "The cross validation score for alpha = 0.00048000000000000007 is 0.8978217495784442.\n",
      "\n",
      "The cross validation score for alpha = 0.0004900000000000001 is 0.8978497702016934.\n",
      "\n",
      "The cross validation score for alpha = 0.0005000000000000001 is 0.8978833946355337.\n",
      "\n",
      "The cross validation score for alpha = 0.00051 is 0.8979058098778984.\n",
      "\n",
      "The cross validation score for alpha = 0.0005200000000000001 is 0.897956245115388.\n",
      "\n",
      "The cross validation score for alpha = 0.0005300000000000001 is 0.8979618489259792.\n",
      "\n",
      "The cross validation score for alpha = 0.0005400000000000001 is 0.8979450362379572.\n",
      "\n",
      "The cross validation score for alpha = 0.00055 is 0.8979618492400236.\n",
      "\n",
      "The cross validation score for alpha = 0.0005600000000000001 is 0.8979898704913971.\n",
      "\n",
      "The cross validation score for alpha = 0.0005700000000000001 is 0.8979898717476104.\n",
      "\n",
      "The cross validation score for alpha = 0.0005800000000000001 is 0.8980178942552675.\n",
      "\n",
      "The cross validation score for alpha = 0.00059 is 0.8980066860059608.\n",
      "\n",
      "The cross validation score for alpha = 0.0006000000000000001 is 0.8980234974377345.\n",
      "\n",
      "The cross validation score for alpha = 0.0006100000000000001 is 0.8980627250540415.\n",
      "\n",
      "The cross validation score for alpha = 0.0006200000000000001 is 0.8980907441069977.\n",
      "\n",
      "The cross validation score for alpha = 0.00063 is 0.8981075561668955.\n",
      "\n",
      "The cross validation score for alpha = 0.00064 is 0.8981299720373845.\n",
      "\n",
      "The cross validation score for alpha = 0.0006500000000000001 is 0.8981355764760999.\n",
      "\n",
      "The cross validation score for alpha = 0.0006600000000000001 is 0.8981411802866912.\n",
      "\n",
      "The cross validation score for alpha = 0.0006700000000000001 is 0.8981748053486559.\n",
      "\n",
      "The cross validation score for alpha = 0.00068 is 0.8981692021661889.\n",
      "\n",
      "The cross validation score for alpha = 0.0006900000000000001 is 0.8982028262859846.\n",
      "\n",
      "The cross validation score for alpha = 0.0007000000000000001 is 0.8982028262859844.\n",
      "\n",
      "The cross validation score for alpha = 0.0007100000000000001 is 0.8982308459670648.\n",
      "\n",
      "The cross validation score for alpha = 0.00072 is 0.8982364491495318.\n",
      "\n",
      "The cross validation score for alpha = 0.0007300000000000001 is 0.8982532615234742.\n",
      "\n",
      "The cross validation score for alpha = 0.0007400000000000001 is 0.8982812818326786.\n",
      "\n",
      "The cross validation score for alpha = 0.0007500000000000001 is 0.8982812818326786.\n",
      "\n",
      "The cross validation score for alpha = 0.00076 is 0.8982980935784968.\n",
      "\n",
      "The cross validation score for alpha = 0.0007700000000000001 is 0.8983205100771101.\n",
      "\n",
      "The cross validation score for alpha = 0.0007800000000000001 is 0.8983429272038477.\n",
      "\n",
      "The cross validation score for alpha = 0.0007900000000000001 is 0.8983429272038477.\n",
      "\n",
      "The cross validation score for alpha = 0.0008 is 0.8983653433883813.\n",
      "\n",
      "The cross validation score for alpha = 0.0008100000000000001 is 0.8983989681362662.\n",
      "\n",
      "The cross validation score for alpha = 0.0008200000000000001 is 0.8984437998772442.\n",
      "\n",
      "The cross validation score for alpha = 0.0008300000000000001 is 0.8984381963806977.\n",
      "\n",
      "The cross validation score for alpha = 0.0008400000000000001 is 0.8984381966947421.\n",
      "\n",
      "The cross validation score for alpha = 0.0008500000000000001 is 0.8984662163758224.\n",
      "\n",
      "The cross validation score for alpha = 0.0008600000000000001 is 0.8984886325603562.\n",
      "\n",
      "The cross validation score for alpha = 0.0008700000000000001 is 0.8985222569941964.\n",
      "\n",
      "The cross validation score for alpha = 0.0008800000000000001 is 0.8985446728646854.\n",
      "\n",
      "The cross validation score for alpha = 0.0008900000000000001 is 0.898555879543699.\n",
      "\n",
      "The cross validation score for alpha = 0.0009000000000000001 is 0.8985502757331079.\n",
      "\n",
      "The cross validation score for alpha = 0.0009100000000000001 is 0.8985502751049834.\n",
      "\n",
      "The cross validation score for alpha = 0.0009200000000000001 is 0.8985782944719489.\n",
      "\n",
      "The cross validation score for alpha = 0.00093 is 0.8985895027212555.\n",
      "\n",
      "The cross validation score for alpha = 0.0009400000000000001 is 0.8986119179636203.\n",
      "\n",
      "The cross validation score for alpha = 0.0009500000000000001 is 0.8986175217742115.\n",
      "\n",
      "The cross validation score for alpha = 0.0009600000000000001 is 0.8986175230304599.\n",
      "\n",
      "The cross validation score for alpha = 0.0009700000000000002 is 0.8986231271551309.\n",
      "\n",
      "The cross validation score for alpha = 0.00098 is 0.8986287309657222.\n",
      "\n",
      "The cross validation score for alpha = 0.0009900000000000002 is 0.8986399385869046.\n",
      "\n",
      "The cross validation score for alpha = 0.001 is 0.8986511468362112.\n"
     ]
    }
   ],
   "source": [
    "# Spliting of train and CV data\n",
    "#X_1, X_test, y_1, y_test = cross_validation.train_test_split(final_counts, y, test_size=0.3, random_state=0)\n",
    "X_tr, X_cv, y_tr, y_cv = cross_validation.train_test_split(final_counts, y_train, test_size=0.3)\n",
    "\n",
    "# 10 fold Cross Validation for alpha range from 10^-3 to 10^-5\n",
    "alphas = np.arange(0.00001, 0.00101, 0.00001)\n",
    "#neighbors = list(filter(lambda x: x % 2 != 0, myList))\n",
    "\n",
    "cv_scores = []\n",
    "\n",
    "for alpha in alphas:\n",
    "    nb = MultinomialNB(alpha=alpha, class_prior=None, fit_prior=True)\n",
    "    scores = cross_val_score(nb, X_tr, y_tr, cv=10, scoring='accuracy')\n",
    "    print('\\nThe cross validation score for alpha = {} is {}.'.format(alpha,scores.mean()))\n",
    "    cv_scores.append(scores.mean())\n",
    "\n",
    "MSE = [1 - x for x in cv_scores]\n",
    "\n",
    "optimal_alpha = alphas[MSE.index(min(MSE))]\n"
   ]
  },
  {
   "cell_type": "code",
   "execution_count": 21,
   "metadata": {},
   "outputs": [
    {
     "name": "stdout",
     "output_type": "stream",
     "text": [
      "\n",
      "The optimal number of neighbors is 0.001000.\n"
     ]
    }
   ],
   "source": [
    "print('\\nThe optimal number of neighbors is %f.' % optimal_alpha)"
   ]
  },
  {
   "cell_type": "code",
   "execution_count": 22,
   "metadata": {},
   "outputs": [
    {
     "data": {
      "image/png": "[encoded data removed]",
      "text/plain": [
       "<matplotlib.figure.Figure at 0x173cfd95d30>"
      ]
     },
     "metadata": {},
     "output_type": "display_data"
    },
    {
     "name": "stdout",
     "output_type": "stream",
     "text": [
      "the misclassification error for each alpha value is :  [0.10555 0.1049  0.10454 0.10438 0.10416 0.104   0.10384 0.10372 0.10362\n",
      " 0.10356 0.1035  0.10344 0.10336 0.10324 0.10319 0.10314 0.10308 0.10304\n",
      " 0.10302 0.10295 0.10288 0.10281 0.1028  0.10276 0.10272 0.10269 0.10267\n",
      " 0.10264 0.10261 0.10259 0.10255 0.10249 0.10251 0.10247 0.10245 0.10244\n",
      " 0.10242 0.10237 0.10237 0.10236 0.10235 0.10234 0.10229 0.10227 0.10222\n",
      " 0.1022  0.10219 0.10218 0.10215 0.10212 0.10209 0.10204 0.10204 0.10205\n",
      " 0.10204 0.10201 0.10201 0.10198 0.10199 0.10198 0.10194 0.10191 0.10189\n",
      " 0.10187 0.10186 0.10186 0.10183 0.10183 0.1018  0.1018  0.10177 0.10176\n",
      " 0.10175 0.10172 0.10172 0.1017  0.10168 0.10166 0.10166 0.10163 0.1016\n",
      " 0.10156 0.10156 0.10156 0.10153 0.10151 0.10148 0.10146 0.10144 0.10145\n",
      " 0.10145 0.10142 0.10141 0.10139 0.10138 0.10138 0.10138 0.10137 0.10136\n",
      " 0.10135]\n"
     ]
    }
   ],
   "source": [
    "# plot misclassification error vs k \n",
    "plt.plot(alphas, MSE)\n",
    "\n",
    "\n",
    "plt.xlabel('Alpha')\n",
    "plt.ylabel('Misclassification Error')\n",
    "plt.show()\n",
    "\n",
    "print(\"the misclassification error for each alpha value is : \", np.round(MSE,5))"
   ]
  },
  {
   "cell_type": "code",
   "execution_count": 23,
   "metadata": {},
   "outputs": [],
   "source": [
    "#count_unigram_train_vect = CountVectorizer(vocabulary=count_unigram_vect.get_feature_names())\n",
    "X_test_vector = count_unigram_vect.transform(X_test)"
   ]
  },
  {
   "cell_type": "code",
   "execution_count": 24,
   "metadata": {},
   "outputs": [
    {
     "data": {
      "text/plain": [
       "(109252, 96249)"
      ]
     },
     "execution_count": 24,
     "metadata": {},
     "output_type": "execute_result"
    }
   ],
   "source": [
    "X_test_vector.get_shape()"
   ]
  },
  {
   "cell_type": "code",
   "execution_count": 27,
   "metadata": {},
   "outputs": [],
   "source": [
    "nb_optimal = MultinomialNB(alpha=optimal_alpha, class_prior=None, fit_prior=True)\n",
    "\n",
    "nb_optimal.fit(X_tr, y_tr)\n",
    "#X_test_vector = count_unigram_vect.fit_transform(X_test)\n",
    "pred = nb_optimal.predict(X_test_vector)\n",
    "\n",
    "acc = accuracy_score(y_test, pred) * 100"
   ]
  },
  {
   "cell_type": "code",
   "execution_count": 28,
   "metadata": {},
   "outputs": [
    {
     "name": "stdout",
     "output_type": "stream",
     "text": [
      "\n",
      "The accuracy of the Multinomial Naive Bayes of unigram BOW for alpha = 0.001000 is 90.105444%\n"
     ]
    }
   ],
   "source": [
    "print('\\nThe accuracy of the Multinomial Naive Bayes of unigram BOW for alpha = %f is %f%%' % (optimal_alpha, acc))"
   ]
  },
  {
   "cell_type": "code",
   "execution_count": 31,
   "metadata": {},
   "outputs": [
    {
     "data": {
      "text/plain": [
       "array([[11987,  5226],\n",
       "       [ 5584, 86455]], dtype=int64)"
      ]
     },
     "execution_count": 31,
     "metadata": {},
     "output_type": "execute_result"
    }
   ],
   "source": [
    "confusion_matrix(y_test, pred)"
   ]
  },
  {
   "cell_type": "code",
   "execution_count": 32,
   "metadata": {},
   "outputs": [],
   "source": [
    "from sklearn.metrics import precision_recall_fscore_support as score\n",
    "precision, recall, fscore, support = score(y_test, pred)\n",
    "\n"
   ]
  },
  {
   "cell_type": "code",
   "execution_count": 33,
   "metadata": {},
   "outputs": [
    {
     "name": "stdout",
     "output_type": "stream",
     "text": [
      "Value for alpha =  0.001\n",
      "precision: [0.68220363 0.942998  ]\n",
      "recall: [0.69639226 0.93933007]\n",
      "fscore: [0.68922493 0.94116046]\n"
     ]
    }
   ],
   "source": [
    "print('Value for alpha = ',optimal_alpha)\n",
    "print('precision: {}'.format(precision))\n",
    "print('recall: {}'.format(recall))\n",
    "print('fscore: {}'.format(fscore))"
   ]
  },
  {
   "cell_type": "code",
   "execution_count": 72,
   "metadata": {},
   "outputs": [
    {
     "name": "stdout",
     "output_type": "stream",
     "text": [
      "Most important negative feature\n",
      "['inexpedience' 'minituare' 'minitse' 'minites' 'minita' 'ministrone'\n",
      " 'ministerial' 'minister' 'minischnauzers' 'miniture' 'minipoodles'\n",
      " 'minipockets' 'miniority' 'minions' 'minion']\n",
      "Most important positive feature\n",
      "['inexpedience' 'intimated' 'intimately' 'intimdating' 'intimidator'\n",
      " 'intinerary' 'intitally' 'intollerent' 'intolorances' 'intolorant'\n",
      " 'intolorence' 'inton' 'intonation' 'intoned' 'intorduce']\n"
     ]
    }
   ],
   "source": [
    "#https://stackoverflow.com/questions/50526898/how-to-get-feature-importance-in-naive-bayes link for this code\n",
    "neg_class_prob_sorted = nb_optimal.feature_log_prob_[0, :].argsort()\n",
    "pos_class_prob_sorted = nb_optimal.feature_log_prob_[1, :].argsort()\n",
    "\n",
    "print('Most important negative feature')\n",
    "print(np.take(count_unigram_vect.get_feature_names(), neg_class_prob_sorted[:15]))\n",
    "print('Most important positive feature')\n",
    "print(np.take(count_unigram_vect.get_feature_names(), pos_class_prob_sorted[:15]))"
   ]
  },
  {
   "cell_type": "markdown",
   "metadata": {},
   "source": [
    "# Bigram anaysis BOW"
   ]
  },
  {
   "cell_type": "code",
   "execution_count": 35,
   "metadata": {
    "scrolled": true
   },
   "outputs": [
    {
     "name": "stdout",
     "output_type": "stream",
     "text": [
      "\n",
      "The cross validation score for alpha = 1e-05 is 0.8988696773600818.\n",
      "\n",
      "The cross validation score for alpha = 2e-05 is 0.9012121637738817.\n",
      "\n",
      "The cross validation score for alpha = 3.0000000000000004e-05 is 0.9027140412273156.\n",
      "\n",
      "The cross validation score for alpha = 4e-05 is 0.9038572628690089.\n",
      "\n",
      "The cross validation score for alpha = 5e-05 is 0.9046642480236944.\n",
      "\n",
      "The cross validation score for alpha = 6e-05 is 0.9053367316749071.\n",
      "\n",
      "The cross validation score for alpha = 7.000000000000001e-05 is 0.9059363632757964.\n",
      "\n",
      "The cross validation score for alpha = 8e-05 is 0.9064127013085805.\n",
      "\n",
      "The cross validation score for alpha = 9e-05 is 0.9068834367868808.\n",
      "\n",
      "The cross validation score for alpha = 0.0001 is 0.9073093493170277.\n",
      "\n",
      "The cross validation score for alpha = 0.00011 is 0.907690421313372.\n",
      "\n",
      "The cross validation score for alpha = 0.00012 is 0.9080154574019751.\n",
      "\n",
      "The cross validation score for alpha = 0.00013000000000000002 is 0.9083180732236065.\n",
      "\n",
      "The cross validation score for alpha = 0.00014000000000000001 is 0.9086543166192772.\n",
      "\n",
      "The cross validation score for alpha = 0.00015000000000000001 is 0.9089289127598634.\n",
      "\n",
      "The cross validation score for alpha = 0.00016 is 0.9091418710660678.\n",
      "\n",
      "The cross validation score for alpha = 0.00017 is 0.9093156001858128.\n",
      "\n",
      "The cross validation score for alpha = 0.00018 is 0.9095005344144547.\n",
      "\n",
      "The cross validation score for alpha = 0.00019 is 0.9097246934333192.\n",
      "\n",
      "The cross validation score for alpha = 0.0002 is 0.909881607667012.\n",
      "\n",
      "The cross validation score for alpha = 0.00021 is 0.9101113730086835.\n",
      "\n",
      "The cross validation score for alpha = 0.00022 is 0.9102738872846091.\n",
      "\n",
      "The cross validation score for alpha = 0.00023 is 0.9104756354574862.\n",
      "\n",
      "The cross validation score for alpha = 0.00024 is 0.9106157379453608.\n",
      "\n",
      "The cross validation score for alpha = 0.00025000000000000006 is 0.910795064281184.\n",
      "\n",
      "The cross validation score for alpha = 0.00026000000000000003 is 0.9108735188856742.\n",
      "\n",
      "The cross validation score for alpha = 0.00027000000000000006 is 0.9109519753744669.\n",
      "\n",
      "The cross validation score for alpha = 0.00028000000000000003 is 0.9110360359878247.\n",
      "\n",
      "The cross validation score for alpha = 0.00029000000000000006 is 0.9111705315246981.\n",
      "\n",
      "The cross validation score for alpha = 0.00030000000000000003 is 0.9112714051401225.\n",
      "\n",
      "The cross validation score for alpha = 0.00031000000000000005 is 0.9113834819802819.\n",
      "\n",
      "The cross validation score for alpha = 0.00032 is 0.9116076463376223.\n",
      "\n",
      "The cross validation score for alpha = 0.00033000000000000005 is 0.9117645596292165.\n",
      "\n",
      "The cross validation score for alpha = 0.0003400000000000001 is 0.9119158675400675.\n",
      "\n",
      "The cross validation score for alpha = 0.00035000000000000005 is 0.9119719072162022.\n",
      "\n",
      "The cross validation score for alpha = 0.0003600000000000001 is 0.9120447598944386.\n",
      "\n",
      "The cross validation score for alpha = 0.00037000000000000005 is 0.9121400287571033.\n",
      "\n",
      "The cross validation score for alpha = 0.0003800000000000001 is 0.9122857303450418.\n",
      "\n",
      "The cross validation score for alpha = 0.00039000000000000005 is 0.9124090207730184.\n",
      "\n",
      "The cross validation score for alpha = 0.0004000000000000001 is 0.9124986877092184.\n",
      "\n",
      "The cross validation score for alpha = 0.00041000000000000005 is 0.9126107676896822.\n",
      "\n",
      "The cross validation score for alpha = 0.00042000000000000007 is 0.9126443933795951.\n",
      "\n",
      "The cross validation score for alpha = 0.00043000000000000004 is 0.912745266052886.\n",
      "\n",
      "The cross validation score for alpha = 0.00044000000000000007 is 0.9128237234837415.\n",
      "\n",
      "The cross validation score for alpha = 0.00045000000000000004 is 0.9129470135976738.\n",
      "\n",
      "The cross validation score for alpha = 0.00046000000000000007 is 0.9130590945202011.\n",
      "\n",
      "The cross validation score for alpha = 0.00047000000000000004 is 0.9131095332120397.\n",
      "\n",
      "The cross validation score for alpha = 0.00048000000000000007 is 0.9131991992062114.\n",
      "\n",
      "The cross validation score for alpha = 0.0004900000000000001 is 0.9132608439491154.\n",
      "\n",
      "The cross validation score for alpha = 0.0005000000000000001 is 0.9132776569510412.\n",
      "\n",
      "The cross validation score for alpha = 0.00051 is 0.9133673201189177.\n",
      "\n",
      "The cross validation score for alpha = 0.0005200000000000001 is 0.9135242318403247.\n",
      "\n",
      "The cross validation score for alpha = 0.0005300000000000001 is 0.913625106397707.\n",
      "\n",
      "The cross validation score for alpha = 0.0005400000000000001 is 0.9136643337000047.\n",
      "\n",
      "The cross validation score for alpha = 0.00055 is 0.9137259781288642.\n",
      "\n",
      "The cross validation score for alpha = 0.0005600000000000001 is 0.9138156453791437.\n",
      "\n",
      "The cross validation score for alpha = 0.0005700000000000001 is 0.9139669539180133.\n",
      "\n",
      "The cross validation score for alpha = 0.0005800000000000001 is 0.9140734288317078.\n",
      "\n",
      "The cross validation score for alpha = 0.00059 is 0.9141070516953608.\n",
      "\n",
      "The cross validation score for alpha = 0.0006000000000000001 is 0.9142303399250962.\n",
      "\n",
      "The cross validation score for alpha = 0.0006100000000000001 is 0.9142247358004955.\n",
      "\n",
      "The cross validation score for alpha = 0.0006200000000000001 is 0.9143031888349743.\n",
      "\n",
      "The cross validation score for alpha = 0.00063 is 0.914364832321841.\n",
      "\n",
      "The cross validation score for alpha = 0.00064 is 0.9144152694435975.\n",
      "\n",
      "The cross validation score for alpha = 0.0006500000000000001 is 0.9144544980020033.\n",
      "\n",
      "The cross validation score for alpha = 0.0006600000000000001 is 0.9144881199235577.\n",
      "\n",
      "The cross validation score for alpha = 0.0006700000000000001 is 0.9145553684770882.\n",
      "\n",
      "The cross validation score for alpha = 0.00068 is 0.9146562392662174.\n",
      "\n",
      "The cross validation score for alpha = 0.0006900000000000001 is 0.914712279884556.\n",
      "\n",
      "The cross validation score for alpha = 0.0007000000000000001 is 0.9147066776441524.\n",
      "\n",
      "The cross validation score for alpha = 0.0007100000000000001 is 0.9147571128817121.\n",
      "\n",
      "The cross validation score for alpha = 0.00072 is 0.9148131547561235.\n",
      "\n",
      "The cross validation score for alpha = 0.0007300000000000001 is 0.9148804023675554.\n",
      "\n",
      "The cross validation score for alpha = 0.0007400000000000001 is 0.914942047424504.\n",
      "\n",
      "The cross validation score for alpha = 0.0007500000000000001 is 0.9149700683617272.\n",
      "\n",
      "The cross validation score for alpha = 0.00076 is 0.9150429204118042.\n",
      "\n",
      "The cross validation score for alpha = 0.0007700000000000001 is 0.9150765448455742.\n",
      "\n",
      "The cross validation score for alpha = 0.0007800000000000001 is 0.9151325860919315.\n",
      "\n",
      "The cross validation score for alpha = 0.0007900000000000001 is 0.915194229892737.\n",
      "\n",
      "The cross validation score for alpha = 0.0008 is 0.915216645449252.\n",
      "\n",
      "The cross validation score for alpha = 0.0008100000000000001 is 0.9153175187505969.\n",
      "\n",
      "The cross validation score for alpha = 0.0008200000000000001 is 0.9153623523757014.\n",
      "\n",
      "The cross validation score for alpha = 0.0008300000000000001 is 0.9154239980606684.\n",
      "\n",
      "The cross validation score for alpha = 0.0008400000000000001 is 0.9154576228084477.\n",
      "\n",
      "The cross validation score for alpha = 0.0008500000000000001 is 0.9154688313717637.\n",
      "\n",
      "The cross validation score for alpha = 0.0008600000000000001 is 0.9154688307437097.\n",
      "\n",
      "The cross validation score for alpha = 0.0008700000000000001 is 0.9155248713620132.\n",
      "\n",
      "The cross validation score for alpha = 0.0008800000000000001 is 0.9155528926132457.\n",
      "\n",
      "The cross validation score for alpha = 0.0008900000000000001 is 0.915631346903797.\n",
      "\n",
      "The cross validation score for alpha = 0.0009000000000000001 is 0.9156537615181431.\n",
      "\n",
      "The cross validation score for alpha = 0.0009100000000000001 is 0.9156313475318154.\n",
      "\n",
      "The cross validation score for alpha = 0.0009200000000000001 is 0.9156649725936745.\n",
      "\n",
      "The cross validation score for alpha = 0.00093 is 0.9157434290824318.\n",
      "\n",
      "The cross validation score for alpha = 0.0009400000000000001 is 0.9158050738253358.\n",
      "\n",
      "The cross validation score for alpha = 0.0009500000000000001 is 0.9158835306281023.\n",
      "\n",
      "The cross validation score for alpha = 0.0009600000000000001 is 0.9159003423739559.\n",
      "\n",
      "The cross validation score for alpha = 0.0009700000000000002 is 0.9159283617410268.\n",
      "\n",
      "The cross validation score for alpha = 0.00098 is 0.9159283611129728.\n",
      "\n",
      "The cross validation score for alpha = 0.0009900000000000002 is 0.9159395703043428.\n",
      "\n",
      "The cross validation score for alpha = 0.001 is 0.9159844011032225.\n"
     ]
    }
   ],
   "source": [
    "# Spliting of train and test data\n",
    "#X_1, X_test, y_1, y_test = cross_validation.train_test_split(final_bigram_counts, y, test_size=0.3, random_state=0)\n",
    "X_tr, X_cv, y_tr, y_cv = cross_validation.train_test_split(final_bigram_counts, y_train, test_size=0.3)\n",
    "\n",
    "# 10 fold Cross Validation for alpha range from 10^-3 to 10^-5\n",
    "alphas = np.arange(0.00001, 0.00101, 0.00001)\n",
    "#neighbors = list(filter(lambda x: x % 2 != 0, myList))\n",
    "\n",
    "cv_scores = []\n",
    "\n",
    "for alpha in alphas:\n",
    "    nb = MultinomialNB(alpha=alpha, class_prior=None, fit_prior=True)\n",
    "    scores = cross_val_score(nb, X_tr, y_tr, cv=10, scoring='accuracy')\n",
    "    print('\\nThe cross validation score for alpha = {} is {}.'.format(alpha,scores.mean()))\n",
    "    cv_scores.append(scores.mean())\n",
    "\n",
    "MSE = [1 - x for x in cv_scores]\n",
    "\n",
    "optimal_alpha = alphas[MSE.index(min(MSE))]"
   ]
  },
  {
   "cell_type": "code",
   "execution_count": 36,
   "metadata": {},
   "outputs": [
    {
     "name": "stdout",
     "output_type": "stream",
     "text": [
      "\n",
      "The optimal number of neighbors is 0.001000.\n"
     ]
    }
   ],
   "source": [
    "print('\\nThe optimal number of neighbors is %f.' % optimal_alpha)"
   ]
  },
  {
   "cell_type": "code",
   "execution_count": 37,
   "metadata": {},
   "outputs": [
    {
     "data": {
      "image/png": "[encoded data removed]",
      "text/plain": [
       "<matplotlib.figure.Figure at 0x1740fcc3b00>"
      ]
     },
     "metadata": {},
     "output_type": "display_data"
    },
    {
     "name": "stdout",
     "output_type": "stream",
     "text": [
      "the misclassification error for each alpha value is :  [0.10113 0.09879 0.09729 0.09614 0.09534 0.09466 0.09406 0.09359 0.09312\n",
      " 0.09269 0.09231 0.09198 0.09168 0.09135 0.09107 0.09086 0.09068 0.0905\n",
      " 0.09028 0.09012 0.08989 0.08973 0.08952 0.08938 0.0892  0.08913 0.08905\n",
      " 0.08896 0.08883 0.08873 0.08862 0.08839 0.08824 0.08808 0.08803 0.08796\n",
      " 0.08786 0.08771 0.08759 0.0875  0.08739 0.08736 0.08725 0.08718 0.08705\n",
      " 0.08694 0.08689 0.0868  0.08674 0.08672 0.08663 0.08648 0.08637 0.08634\n",
      " 0.08627 0.08618 0.08603 0.08593 0.08589 0.08577 0.08578 0.0857  0.08564\n",
      " 0.08558 0.08555 0.08551 0.08544 0.08534 0.08529 0.08529 0.08524 0.08519\n",
      " 0.08512 0.08506 0.08503 0.08496 0.08492 0.08487 0.08481 0.08478 0.08468\n",
      " 0.08464 0.08458 0.08454 0.08453 0.08453 0.08448 0.08445 0.08437 0.08435\n",
      " 0.08437 0.08434 0.08426 0.08419 0.08412 0.0841  0.08407 0.08407 0.08406\n",
      " 0.08402]\n"
     ]
    }
   ],
   "source": [
    "# plot misclassification error vs k \n",
    "plt.plot(alphas, MSE)\n",
    "\n",
    "\n",
    "plt.xlabel('Alpha')\n",
    "plt.ylabel('Misclassification Error')\n",
    "plt.show()\n",
    "\n",
    "print(\"the misclassification error for each alpha value is : \", np.round(MSE,5))"
   ]
  },
  {
   "cell_type": "code",
   "execution_count": 38,
   "metadata": {},
   "outputs": [],
   "source": [
    "nb_optimal = MultinomialNB(alpha=optimal_alpha, class_prior=None, fit_prior=True)\n",
    "\n",
    "nb_optimal.fit(X_tr, y_tr)\n",
    "X_test_vector = count_vect.transform(X_test)\n",
    "pred = nb_optimal.predict(X_test_vector)\n",
    "\n",
    "acc = accuracy_score(y_test, pred) * 100"
   ]
  },
  {
   "cell_type": "code",
   "execution_count": 39,
   "metadata": {},
   "outputs": [
    {
     "name": "stdout",
     "output_type": "stream",
     "text": [
      "\n",
      "The accuracy of the Multinomial Naive Bayes of unigram BOW for alpha = 0.001000 is 91.175448%\n"
     ]
    }
   ],
   "source": [
    "print('\\nThe accuracy of the Multinomial Naive Bayes of unigram BOW for alpha = %f is %f%%' % (optimal_alpha, acc))"
   ]
  },
  {
   "cell_type": "code",
   "execution_count": 40,
   "metadata": {},
   "outputs": [
    {
     "data": {
      "text/plain": [
       "array([[ 9514,  7699],\n",
       "       [ 1942, 90097]], dtype=int64)"
      ]
     },
     "execution_count": 40,
     "metadata": {},
     "output_type": "execute_result"
    }
   ],
   "source": [
    "confusion_matrix(y_test, pred)"
   ]
  },
  {
   "cell_type": "code",
   "execution_count": 41,
   "metadata": {},
   "outputs": [
    {
     "name": "stdout",
     "output_type": "stream",
     "text": [
      "Value for alpha =  0.001\n",
      "precision: [0.83048184 0.9212749 ]\n",
      "recall: [0.55272178 0.97890025]\n",
      "fscore: [0.66371342 0.94921379]\n"
     ]
    }
   ],
   "source": [
    "\n",
    "precision, recall, fscore, support = score(y_test, pred)\n",
    "print('Value for alpha = ',optimal_alpha)\n",
    "print('precision: {}'.format(precision))\n",
    "print('recall: {}'.format(recall))\n",
    "print('fscore: {}'.format(fscore))"
   ]
  },
  {
   "cell_type": "code",
   "execution_count": 81,
   "metadata": {},
   "outputs": [
    {
     "name": "stdout",
     "output_type": "stream",
     "text": [
      "Most important negative feature\n",
      "['linden eeekkk' 'oven batch' 'oven beautifully' 'oven beeps' 'oven being'\n",
      " 'oven best' 'oven bit' 'oven black' 'oven both' 'oven brand' 'oven bread'\n",
      " 'oven brew' 'oven brown' 'oven brushed' 'oven by']\n",
      "Most important positive feature\n",
      "['linden eeekkk' 'generation after' 'sam with' 'generation 1992'\n",
      " 'generation 1984' 'generation 1962' 'sam would' 'generating pad'\n",
      " 'sam you' 'sam who' 'generating lot' 'generating impulse'\n",
      " 'generating further' 'generates so' 'generates relative']\n"
     ]
    }
   ],
   "source": [
    "neg_class_prob_sorted = nb_optimal.feature_log_prob_[0, :].argsort()\n",
    "pos_class_prob_sorted = nb_optimal.feature_log_prob_[1, :].argsort()\n",
    "\n",
    "print('Most important negative feature')\n",
    "print(np.take(count_vect.get_feature_names(), neg_class_prob_sorted[:15]))\n",
    "print('Most important positive feature')\n",
    "print(np.take(count_vect.get_feature_names(), pos_class_prob_sorted[:15]))"
   ]
  },
  {
   "cell_type": "markdown",
   "metadata": {},
   "source": [
    "# [7.2.5] TF-IDF"
   ]
  },
  {
   "cell_type": "code",
   "execution_count": 19,
   "metadata": {},
   "outputs": [],
   "source": [
    "\n",
    "tf_idf_vect = TfidfVectorizer(ngram_range=(1,2))\n",
    "final_tf_idf = tf_idf_vect.fit_transform(X_train)\n"
   ]
  },
  {
   "cell_type": "code",
   "execution_count": 20,
   "metadata": {
    "scrolled": true
   },
   "outputs": [
    {
     "name": "stdout",
     "output_type": "stream",
     "text": [
      "\n",
      "The cross validation score for alpha = 1e-05 is 0.8926548425059979.\n",
      "\n",
      "The cross validation score for alpha = 2e-05 is 0.8955185165964217.\n",
      "\n",
      "The cross validation score for alpha = 3.0000000000000004e-05 is 0.8972333445060381.\n",
      "\n",
      "The cross validation score for alpha = 4e-05 is 0.8986847882928386.\n",
      "\n",
      "The cross validation score for alpha = 5e-05 is 0.8997159434591092.\n",
      "\n",
      "The cross validation score for alpha = 6e-05 is 0.9004388626621027.\n",
      "\n",
      "The cross validation score for alpha = 7.000000000000001e-05 is 0.9012962849394605.\n",
      "\n",
      "The cross validation score for alpha = 8e-05 is 0.9020192079113751.\n",
      "\n",
      "The cross validation score for alpha = 9e-05 is 0.9025515875045258.\n",
      "\n",
      "The cross validation score for alpha = 0.0001 is 0.9031007866950655.\n",
      "\n",
      "The cross validation score for alpha = 0.00011 is 0.9035379040207333.\n",
      "\n",
      "The cross validation score for alpha = 0.00012 is 0.9038741449042942.\n",
      "\n",
      "The cross validation score for alpha = 0.00013000000000000002 is 0.9042159921109783.\n",
      "\n",
      "The cross validation score for alpha = 0.00014000000000000001 is 0.9046531015850048.\n",
      "\n",
      "The cross validation score for alpha = 0.00015000000000000001 is 0.9050117652484918.\n",
      "\n",
      "The cross validation score for alpha = 0.00016 is 0.9053704270275358.\n",
      "\n",
      "The cross validation score for alpha = 0.00017 is 0.9056562358141932.\n",
      "\n",
      "The cross validation score for alpha = 0.00018 is 0.9059084201670453.\n",
      "\n",
      "The cross validation score for alpha = 0.00019 is 0.9061886213744714.\n",
      "\n",
      "The cross validation score for alpha = 0.0002 is 0.9064520149190102.\n",
      "\n",
      "The cross validation score for alpha = 0.00021 is 0.90661453327755.\n",
      "\n",
      "The cross validation score for alpha = 0.00022 is 0.9068779236813972.\n",
      "\n",
      "The cross validation score for alpha = 0.00023 is 0.9070460452222632.\n",
      "\n",
      "The cross validation score for alpha = 0.00024 is 0.9072870225820571.\n",
      "\n",
      "The cross validation score for alpha = 0.00025000000000000006 is 0.9075504104733719.\n",
      "\n",
      "The cross validation score for alpha = 0.00026000000000000003 is 0.9077801736168727.\n",
      "\n",
      "The cross validation score for alpha = 0.00027000000000000006 is 0.907987522146027.\n",
      "\n",
      "The cross validation score for alpha = 0.00028000000000000003 is 0.9081164138723796.\n",
      "\n",
      "The cross validation score for alpha = 0.00029000000000000006 is 0.9082677264939688.\n",
      "\n",
      "The cross validation score for alpha = 0.00030000000000000003 is 0.9085479273873505.\n",
      "\n",
      "The cross validation score for alpha = 0.00031000000000000005 is 0.9087608790989365.\n",
      "\n",
      "The cross validation score for alpha = 0.00032 is 0.9089570190648102.\n",
      "\n",
      "The cross validation score for alpha = 0.00033000000000000005 is 0.9090803050961285.\n",
      "\n",
      "The cross validation score for alpha = 0.0003400000000000001 is 0.9092484266371702.\n",
      "\n",
      "The cross validation score for alpha = 0.00035000000000000005 is 0.9093941319937489.\n",
      "\n",
      "The cross validation score for alpha = 0.0003600000000000001 is 0.9095454439873194.\n",
      "\n",
      "The cross validation score for alpha = 0.00037000000000000005 is 0.9096295046007477.\n",
      "\n",
      "The cross validation score for alpha = 0.0003800000000000001 is 0.909769603948177.\n",
      "\n",
      "The cross validation score for alpha = 0.00039000000000000005 is 0.9098816864411029.\n",
      "\n",
      "The cross validation score for alpha = 0.0004000000000000001 is 0.910010580365908.\n",
      "\n",
      "The cross validation score for alpha = 0.00041000000000000005 is 0.9101674908311368.\n",
      "\n",
      "The cross validation score for alpha = 0.00042000000000000007 is 0.910330007305339.\n",
      "\n",
      "The cross validation score for alpha = 0.00043000000000000004 is 0.9104532952210299.\n",
      "\n",
      "The cross validation score for alpha = 0.00044000000000000007 is 0.910520543774525.\n",
      "\n",
      "The cross validation score for alpha = 0.00045000000000000004 is 0.9105485647118539.\n",
      "\n",
      "The cross validation score for alpha = 0.00046000000000000007 is 0.9106046094130178.\n",
      "\n",
      "The cross validation score for alpha = 0.00047000000000000004 is 0.9106886706546055.\n",
      "\n",
      "The cross validation score for alpha = 0.00048000000000000007 is 0.910783942343882.\n",
      "\n",
      "The cross validation score for alpha = 0.0004900000000000001 is 0.9109576651829123.\n",
      "\n",
      "The cross validation score for alpha = 0.0005000000000000001 is 0.9110473289788427.\n",
      "\n",
      "The cross validation score for alpha = 0.00051 is 0.9110809493298578.\n",
      "\n",
      "The cross validation score for alpha = 0.0005200000000000001 is 0.91115380169405.\n",
      "\n",
      "The cross validation score for alpha = 0.0005300000000000001 is 0.9111818204328909.\n",
      "\n",
      "The cross validation score for alpha = 0.0005400000000000001 is 0.9112490677301727.\n",
      "\n",
      "The cross validation score for alpha = 0.00055 is 0.9113275223345221.\n",
      "\n",
      "The cross validation score for alpha = 0.0005600000000000001 is 0.9114171883287643.\n",
      "\n",
      "The cross validation score for alpha = 0.0005700000000000001 is 0.9115180635145872.\n",
      "\n",
      "The cross validation score for alpha = 0.0005800000000000001 is 0.9115572936433566.\n",
      "\n",
      "The cross validation score for alpha = 0.00059 is 0.9116189368160731.\n",
      "\n",
      "The cross validation score for alpha = 0.0006000000000000001 is 0.9117366218633416.\n",
      "\n",
      "The cross validation score for alpha = 0.0006100000000000001 is 0.9118262853451219.\n",
      "\n",
      "The cross validation score for alpha = 0.0006200000000000001 is 0.9118767224669491.\n",
      "\n",
      "The cross validation score for alpha = 0.00063 is 0.9119551770714038.\n",
      "\n",
      "The cross validation score for alpha = 0.00064 is 0.9119831958102802.\n",
      "\n",
      "The cross validation score for alpha = 0.0006500000000000001 is 0.9120728596062457.\n",
      "\n",
      "The cross validation score for alpha = 0.0006600000000000001 is 0.9121513170372424.\n",
      "\n",
      "The cross validation score for alpha = 0.0006700000000000001 is 0.9122353807912568.\n",
      "\n",
      "The cross validation score for alpha = 0.00068 is 0.9123194420328092.\n",
      "\n",
      "The cross validation score for alpha = 0.0006900000000000001 is 0.9123642728315129.\n",
      "\n",
      "The cross validation score for alpha = 0.0007000000000000001 is 0.9124595404380695.\n",
      "\n",
      "The cross validation score for alpha = 0.0007100000000000001 is 0.9125548096149547.\n",
      "\n",
      "The cross validation score for alpha = 0.00072 is 0.9126556841727241.\n",
      "\n",
      "The cross validation score for alpha = 0.0007300000000000001 is 0.9127229305279076.\n",
      "\n",
      "The cross validation score for alpha = 0.0007400000000000001 is 0.9127957832061442.\n",
      "\n",
      "The cross validation score for alpha = 0.0007500000000000001 is 0.9128406149471221.\n",
      "\n",
      "The cross validation score for alpha = 0.00076 is 0.912891048300204.\n",
      "\n",
      "The cross validation score for alpha = 0.0007700000000000001 is 0.9130143368440542.\n",
      "\n",
      "The cross validation score for alpha = 0.0007800000000000001 is 0.9130815866540092.\n",
      "\n",
      "The cross validation score for alpha = 0.0007900000000000001 is 0.9131656491519159.\n",
      "\n",
      "The cross validation score for alpha = 0.0008 is 0.9132104834053205.\n",
      "\n",
      "The cross validation score for alpha = 0.0008100000000000001 is 0.9132609202132089.\n",
      "\n",
      "The cross validation score for alpha = 0.0008200000000000001 is 0.913361796341236.\n",
      "\n",
      "The cross validation score for alpha = 0.0008300000000000001 is 0.913479477933909.\n",
      "\n",
      "The cross validation score for alpha = 0.0008400000000000001 is 0.9134962915639946.\n",
      "\n",
      "The cross validation score for alpha = 0.0008500000000000001 is 0.9135523315542441.\n",
      "\n",
      "The cross validation score for alpha = 0.0008600000000000001 is 0.9136139747268903.\n",
      "\n",
      "The cross validation score for alpha = 0.0008700000000000001 is 0.9136980372247265.\n",
      "\n",
      "The cross validation score for alpha = 0.0008800000000000001 is 0.9137316604023533.\n",
      "\n",
      "The cross validation score for alpha = 0.0008900000000000001 is 0.9137764921433316.\n",
      "\n",
      "The cross validation score for alpha = 0.0009000000000000001 is 0.913776491201198.\n",
      "\n",
      "The cross validation score for alpha = 0.0009100000000000001 is 0.913832530563288.\n",
      "\n",
      "The cross validation score for alpha = 0.0009200000000000001 is 0.9138437366142126.\n",
      "\n",
      "The cross validation score for alpha = 0.00093 is 0.913899780059128.\n",
      "\n",
      "The cross validation score for alpha = 0.0009400000000000001 is 0.9139165902346884.\n",
      "\n",
      "The cross validation score for alpha = 0.0009500000000000001 is 0.913933402608666.\n",
      "\n",
      "The cross validation score for alpha = 0.0009600000000000001 is 0.9140006508481869.\n",
      "\n",
      "The cross validation score for alpha = 0.0009700000000000002 is 0.9139894407145427.\n",
      "\n",
      "The cross validation score for alpha = 0.00098 is 0.9140566892681082.\n",
      "\n",
      "The cross validation score for alpha = 0.0009900000000000002 is 0.9140398781503792.\n",
      "\n",
      "The cross validation score for alpha = 0.001 is 0.9140342759100811.\n"
     ]
    }
   ],
   "source": [
    "# Spliting of train and test data\n",
    "#X_1, X_test, y_1, y_test = cross_validation.train_test_split(final_tf_idf, y, test_size=0.3, random_state=0)\n",
    "X_tr, X_cv, y_tr, y_cv = cross_validation.train_test_split(final_tf_idf, y_train, test_size=0.3)\n",
    "\n",
    "# 10 fold Cross Validation for alpha range from 10^-3 to 10^-5\n",
    "alphas = np.arange(0.00001, 0.00101, 0.00001)\n",
    "#neighbors = list(filter(lambda x: x % 2 != 0, myList))\n",
    "\n",
    "cv_scores = []\n",
    "\n",
    "for alpha in alphas:\n",
    "    nb = MultinomialNB(alpha=alpha, class_prior=None, fit_prior=True)\n",
    "    scores = cross_val_score(nb, X_tr, y_tr, cv=10, scoring='accuracy')\n",
    "    print('\\nThe cross validation score for alpha = {} is {}.'.format(alpha,scores.mean()))\n",
    "    cv_scores.append(scores.mean())\n",
    "\n",
    "MSE = [1 - x for x in cv_scores]\n",
    "\n",
    "optimal_alpha = alphas[MSE.index(min(MSE))]"
   ]
  },
  {
   "cell_type": "code",
   "execution_count": 21,
   "metadata": {},
   "outputs": [
    {
     "name": "stdout",
     "output_type": "stream",
     "text": [
      "\n",
      "The optimal number of neighbors is 0.000980.\n"
     ]
    }
   ],
   "source": [
    "print('\\nThe optimal number of neighbors is %f.' % optimal_alpha)"
   ]
  },
  {
   "cell_type": "code",
   "execution_count": 22,
   "metadata": {},
   "outputs": [
    {
     "data": {
      "image/png": "[encoded data removed]",
      "text/plain": [
       "<matplotlib.figure.Figure at 0x1a0f81194e0>"
      ]
     },
     "metadata": {},
     "output_type": "display_data"
    },
    {
     "name": "stdout",
     "output_type": "stream",
     "text": [
      "the misclassification error for each alpha value is :  [0.10735 0.10448 0.10277 0.10132 0.10028 0.09956 0.0987  0.09798 0.09745\n",
      " 0.0969  0.09646 0.09613 0.09578 0.09535 0.09499 0.09463 0.09434 0.09409\n",
      " 0.09381 0.09355 0.09339 0.09312 0.09295 0.09271 0.09245 0.09222 0.09201\n",
      " 0.09188 0.09173 0.09145 0.09124 0.09104 0.09092 0.09075 0.09061 0.09045\n",
      " 0.09037 0.09023 0.09012 0.08999 0.08983 0.08967 0.08955 0.08948 0.08945\n",
      " 0.0894  0.08931 0.08922 0.08904 0.08895 0.08892 0.08885 0.08882 0.08875\n",
      " 0.08867 0.08858 0.08848 0.08844 0.08838 0.08826 0.08817 0.08812 0.08804\n",
      " 0.08802 0.08793 0.08785 0.08776 0.08768 0.08764 0.08754 0.08745 0.08734\n",
      " 0.08728 0.0872  0.08716 0.08711 0.08699 0.08692 0.08683 0.08679 0.08674\n",
      " 0.08664 0.08652 0.0865  0.08645 0.08639 0.0863  0.08627 0.08622 0.08622\n",
      " 0.08617 0.08616 0.0861  0.08608 0.08607 0.086   0.08601 0.08594 0.08596\n",
      " 0.08597]\n"
     ]
    }
   ],
   "source": [
    "plt.plot(alphas, MSE)\n",
    "\n",
    "\n",
    "plt.xlabel('Alpha')\n",
    "plt.ylabel('Misclassification Error')\n",
    "plt.show()\n",
    "\n",
    "print(\"the misclassification error for each alpha value is : \", np.round(MSE,5))"
   ]
  },
  {
   "cell_type": "code",
   "execution_count": 23,
   "metadata": {},
   "outputs": [],
   "source": [
    "nb_optimal = MultinomialNB(alpha=optimal_alpha, class_prior=None, fit_prior=True)\n",
    "\n",
    "nb_optimal.fit(X_tr, y_tr)\n",
    "X_test_vector = tf_idf_vect.transform(X_test)\n",
    "pred = nb_optimal.predict(X_test_vector)\n",
    "\n",
    "acc = accuracy_score(y_test, pred) * 100"
   ]
  },
  {
   "cell_type": "code",
   "execution_count": 24,
   "metadata": {},
   "outputs": [
    {
     "name": "stdout",
     "output_type": "stream",
     "text": [
      "\n",
      "The accuracy of the Multinomial Naive Bayes of unigram BOW for alpha = 0.000980 is 90.211621%\n"
     ]
    }
   ],
   "source": [
    "print('\\nThe accuracy of the Multinomial Naive Bayes of unigram BOW for alpha = %f is %f%%' % (optimal_alpha, acc))"
   ]
  },
  {
   "cell_type": "code",
   "execution_count": 25,
   "metadata": {},
   "outputs": [
    {
     "data": {
      "text/plain": [
       "array([[ 7534,  9679],\n",
       "       [ 1015, 91024]], dtype=int64)"
      ]
     },
     "execution_count": 25,
     "metadata": {},
     "output_type": "execute_result"
    }
   ],
   "source": [
    "confusion_matrix(y_test, pred)\n"
   ]
  },
  {
   "cell_type": "code",
   "execution_count": 28,
   "metadata": {},
   "outputs": [
    {
     "name": "stdout",
     "output_type": "stream",
     "text": [
      "Value for alpha =  0.00098\n",
      "precision: [0.88127266 0.90388568]\n",
      "recall: [0.43769244 0.98897207]\n",
      "fscore: [0.58489248 0.9445165 ]\n"
     ]
    }
   ],
   "source": [
    "precision, recall, fscore, support = score(y_test, pred)\n",
    "print('Value for alpha = ',optimal_alpha)\n",
    "print('precision: {}'.format(precision))\n",
    "print('recall: {}'.format(recall))\n",
    "print('fscore: {}'.format(fscore))"
   ]
  },
  {
   "cell_type": "code",
   "execution_count": 29,
   "metadata": {},
   "outputs": [
    {
     "name": "stdout",
     "output_type": "stream",
     "text": [
      "Most important negative feature\n",
      "['ît real' 'little snow' 'little snouts' 'little snot' 'little snoot'\n",
      " 'little snooping' 'little snobby' 'stated extremely' 'little snickers'\n",
      " 'little sneeze' 'little sneaky' 'little snub' 'little sneaks'\n",
      " 'little snap' 'little snail']\n",
      "Most important positive feature\n",
      "['linking these' 'label well' 'twinigs' 'stirred ignored' 'label way'\n",
      " 'twings to' 'twings' 'label warrants' 'twingle in' 'cracker unless'\n",
      " 'stirred loving' 'label warning' 'twingle' 'label vitamin'\n",
      " 'label violation']\n"
     ]
    }
   ],
   "source": [
    "neg_class_prob_sorted = nb_optimal.feature_log_prob_[0, :].argsort()\n",
    "pos_class_prob_sorted = nb_optimal.feature_log_prob_[1, :].argsort()\n",
    "\n",
    "print('Most important negative feature')\n",
    "print(np.take(tf_idf_vect.get_feature_names(), neg_class_prob_sorted[:15]))\n",
    "print('Most important positive feature')\n",
    "print(np.take(tf_idf_vect.get_feature_names(), pos_class_prob_sorted[:15]))"
   ]
  },
  {
   "cell_type": "markdown",
   "metadata": {
    "collapsed": true
   },
   "source": [
    "Here in TF-IDF negative and positive features word 'little' is highly used in -ve review\n",
    "and word 'label' is highly used in positive review"
   ]
  },
  {
   "cell_type": "markdown",
   "metadata": {},
   "source": [
    "# Conclusion"
   ]
  },
  {
   "cell_type": "markdown",
   "metadata": {
    "collapsed": true
   },
   "source": [
    "All Model were tested on complete data with 30% test data and remaining as train data with 10 fold cross validation on time base splited data precision recall and f1 score data have -ve and +ve value respectively for all vectorisation\n",
    "\n",
    "\"TF-IDF\" : Accuracy = 91.22% , Best alpha= 0.098 , \n",
    "\n",
    "Precision = [0.88127266 0.90388568], \n",
    "\n",
    "Recall = [0.43769244 0.98897207]\n",
    "\n",
    "F1 Score = [0.58489248 0.9445165]\n",
    "\n",
    "\n",
    "\"Bigram BOW\" : Accuracy = 91.18% , Best alpha= 0.001 ,\n",
    "\n",
    "precision: [0.83048184 0.9212749]\n",
    "\n",
    "recall: [0.55272178 0.97890025]\n",
    "\n",
    "fscore: [0.66371342 0.94921379]\n",
    "\n",
    "\n",
    "\"Unigram BOW\" : Accuracy = 90.12% , Best alpha= 0.001 \n",
    "\n",
    "precision: [0.68220363 0.942998]\n",
    "\n",
    "recall: [0.69639226 0.93933007]\n",
    "\n",
    "fscore: [0.68922493 0.94116046]\n"
   ]
  },
  {
   "cell_type": "markdown",
   "metadata": {
    "collapsed": true
   },
   "source": [
    "Graph of alpha shows that the behaviour of system is 'parabolic' and alpha value improves system performance for low value but close to zero for higher value with large positive value alpha system performance decreasing as it is clear in graph "
   ]
  },
  {
   "cell_type": "markdown",
   "metadata": {
    "collapsed": true
   },
   "source": [
    "TF-IDF has best accuracy followed by bigram BOW And Unigram BOW"
   ]
  },
  {
   "cell_type": "markdown",
   "metadata": {
    "collapsed": true
   },
   "source": [
    "Precision value is also improve in TF-IDF W2Vec"
   ]
  },
  {
   "cell_type": "code",
   "execution_count": null,
   "metadata": {
    "collapsed": true
   },
   "outputs": [],
   "source": []
  }
 ],
 "metadata": {
  "kernelspec": {
   "display_name": "Python 3",
   "language": "python",
   "name": "python3"
  },
  "language_info": {
   "codemirror_mode": {
    "name": "ipython",
    "version": 3
   },
   "file_extension": ".py",
   "mimetype": "text/x-python",
   "name": "python",
   "nbconvert_exporter": "python",
   "pygments_lexer": "ipython3",
   "version": "3.6.3rc1"
  }
 },
 "nbformat": 4,
 "nbformat_minor": 2
}
